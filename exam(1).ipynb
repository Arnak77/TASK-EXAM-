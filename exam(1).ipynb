{
 "cells": [
  {
   "cell_type": "code",
   "execution_count": 26,
   "id": "8290fc17",
   "metadata": {},
   "outputs": [],
   "source": [
    "import numpy as np\n",
    "import pandas as pd \n",
    "import warnings\n",
    "warnings.filterwarnings(\"ignore\")\n"
   ]
  },
  {
   "cell_type": "code",
   "execution_count": 15,
   "id": "fedd4976",
   "metadata": {},
   "outputs": [],
   "source": [
    "satrt=pd.read_csv(r\"D:\\NIT\\DATASCIENCE\\ARNAK TASK\\exam 1\\movies.csv\")"
   ]
  },
  {
   "cell_type": "code",
   "execution_count": 16,
   "id": "7c77d884",
   "metadata": {},
   "outputs": [
    {
     "data": {
      "text/html": [
       "<div>\n",
       "<style scoped>\n",
       "    .dataframe tbody tr th:only-of-type {\n",
       "        vertical-align: middle;\n",
       "    }\n",
       "\n",
       "    .dataframe tbody tr th {\n",
       "        vertical-align: top;\n",
       "    }\n",
       "\n",
       "    .dataframe thead th {\n",
       "        text-align: right;\n",
       "    }\n",
       "</style>\n",
       "<table border=\"1\" class=\"dataframe\">\n",
       "  <thead>\n",
       "    <tr style=\"text-align: right;\">\n",
       "      <th></th>\n",
       "      <th>MOVIES</th>\n",
       "      <th>YEAR</th>\n",
       "      <th>GENRE</th>\n",
       "      <th>RATING</th>\n",
       "      <th>ONE-LINE</th>\n",
       "      <th>STARS</th>\n",
       "      <th>VOTES</th>\n",
       "      <th>RunTime</th>\n",
       "      <th>Gross</th>\n",
       "    </tr>\n",
       "  </thead>\n",
       "  <tbody>\n",
       "    <tr>\n",
       "      <th>0</th>\n",
       "      <td>Blood Red Sky</td>\n",
       "      <td>-2021</td>\n",
       "      <td>\\nAction, Horror, Thriller</td>\n",
       "      <td>6.1</td>\n",
       "      <td>\\nA woman with a mysterious illness is forced ...</td>\n",
       "      <td>\\n    Director:\\nPeter Thorwarth\\n| \\n    Star...</td>\n",
       "      <td>21,062</td>\n",
       "      <td>121.0</td>\n",
       "      <td>NaN</td>\n",
       "    </tr>\n",
       "    <tr>\n",
       "      <th>1</th>\n",
       "      <td>Masters of the Universe: Revelation</td>\n",
       "      <td>(2021– )</td>\n",
       "      <td>\\nAnimation, Action, Adventure</td>\n",
       "      <td>5.0</td>\n",
       "      <td>\\nThe war for Eternia begins again in what may...</td>\n",
       "      <td>\\n            \\n    Stars:\\nChris Wood, \\nSara...</td>\n",
       "      <td>17,870</td>\n",
       "      <td>25.0</td>\n",
       "      <td>NaN</td>\n",
       "    </tr>\n",
       "    <tr>\n",
       "      <th>2</th>\n",
       "      <td>The Walking Dead</td>\n",
       "      <td>(2010–2022)</td>\n",
       "      <td>\\nDrama, Horror, Thriller</td>\n",
       "      <td>8.2</td>\n",
       "      <td>\\nSheriff Deputy Rick Grimes wakes up from a c...</td>\n",
       "      <td>\\n            \\n    Stars:\\nAndrew Lincoln, \\n...</td>\n",
       "      <td>885,805</td>\n",
       "      <td>44.0</td>\n",
       "      <td>NaN</td>\n",
       "    </tr>\n",
       "    <tr>\n",
       "      <th>3</th>\n",
       "      <td>Rick and Morty</td>\n",
       "      <td>(2013– )</td>\n",
       "      <td>\\nAnimation, Adventure, Comedy</td>\n",
       "      <td>9.2</td>\n",
       "      <td>\\nAn animated series that follows the exploits...</td>\n",
       "      <td>\\n            \\n    Stars:\\nJustin Roiland, \\n...</td>\n",
       "      <td>414,849</td>\n",
       "      <td>23.0</td>\n",
       "      <td>NaN</td>\n",
       "    </tr>\n",
       "    <tr>\n",
       "      <th>4</th>\n",
       "      <td>Army of Thieves</td>\n",
       "      <td>-2021</td>\n",
       "      <td>\\nAction, Crime, Horror</td>\n",
       "      <td>NaN</td>\n",
       "      <td>\\nA prequel, set before the events of Army of ...</td>\n",
       "      <td>\\n    Director:\\nMatthias Schweighöfer\\n| \\n  ...</td>\n",
       "      <td>NaN</td>\n",
       "      <td>NaN</td>\n",
       "      <td>NaN</td>\n",
       "    </tr>\n",
       "    <tr>\n",
       "      <th>...</th>\n",
       "      <td>...</td>\n",
       "      <td>...</td>\n",
       "      <td>...</td>\n",
       "      <td>...</td>\n",
       "      <td>...</td>\n",
       "      <td>...</td>\n",
       "      <td>...</td>\n",
       "      <td>...</td>\n",
       "      <td>...</td>\n",
       "    </tr>\n",
       "    <tr>\n",
       "      <th>9994</th>\n",
       "      <td>NaN</td>\n",
       "      <td>NaN</td>\n",
       "      <td>NaN</td>\n",
       "      <td>NaN</td>\n",
       "      <td>NaN</td>\n",
       "      <td>NaN</td>\n",
       "      <td>NaN</td>\n",
       "      <td>NaN</td>\n",
       "      <td>NaN</td>\n",
       "    </tr>\n",
       "    <tr>\n",
       "      <th>9995</th>\n",
       "      <td>NaN</td>\n",
       "      <td>NaN</td>\n",
       "      <td>NaN</td>\n",
       "      <td>NaN</td>\n",
       "      <td>NaN</td>\n",
       "      <td>NaN</td>\n",
       "      <td>NaN</td>\n",
       "      <td>NaN</td>\n",
       "      <td>NaN</td>\n",
       "    </tr>\n",
       "    <tr>\n",
       "      <th>9996</th>\n",
       "      <td>NaN</td>\n",
       "      <td>NaN</td>\n",
       "      <td>NaN</td>\n",
       "      <td>NaN</td>\n",
       "      <td>NaN</td>\n",
       "      <td>NaN</td>\n",
       "      <td>NaN</td>\n",
       "      <td>NaN</td>\n",
       "      <td>NaN</td>\n",
       "    </tr>\n",
       "    <tr>\n",
       "      <th>9997</th>\n",
       "      <td>NaN</td>\n",
       "      <td>NaN</td>\n",
       "      <td>NaN</td>\n",
       "      <td>NaN</td>\n",
       "      <td>NaN</td>\n",
       "      <td>NaN</td>\n",
       "      <td>NaN</td>\n",
       "      <td>NaN</td>\n",
       "      <td>NaN</td>\n",
       "    </tr>\n",
       "    <tr>\n",
       "      <th>9998</th>\n",
       "      <td>NaN</td>\n",
       "      <td>NaN</td>\n",
       "      <td>NaN</td>\n",
       "      <td>NaN</td>\n",
       "      <td>NaN</td>\n",
       "      <td>NaN</td>\n",
       "      <td>NaN</td>\n",
       "      <td>NaN</td>\n",
       "      <td>NaN</td>\n",
       "    </tr>\n",
       "  </tbody>\n",
       "</table>\n",
       "<p>9999 rows × 9 columns</p>\n",
       "</div>"
      ],
      "text/plain": [
       "                                   MOVIES         YEAR  \\\n",
       "0                           Blood Red Sky        -2021   \n",
       "1     Masters of the Universe: Revelation     (2021– )   \n",
       "2                        The Walking Dead  (2010–2022)   \n",
       "3                          Rick and Morty     (2013– )   \n",
       "4                         Army of Thieves        -2021   \n",
       "...                                   ...          ...   \n",
       "9994                                  NaN          NaN   \n",
       "9995                                  NaN          NaN   \n",
       "9996                                  NaN          NaN   \n",
       "9997                                  NaN          NaN   \n",
       "9998                                  NaN          NaN   \n",
       "\n",
       "                                           GENRE  RATING  \\\n",
       "0         \\nAction, Horror, Thriller                 6.1   \n",
       "1     \\nAnimation, Action, Adventure                 5.0   \n",
       "2          \\nDrama, Horror, Thriller                 8.2   \n",
       "3     \\nAnimation, Adventure, Comedy                 9.2   \n",
       "4            \\nAction, Crime, Horror                 NaN   \n",
       "...                                          ...     ...   \n",
       "9994                                         NaN     NaN   \n",
       "9995                                         NaN     NaN   \n",
       "9996                                         NaN     NaN   \n",
       "9997                                         NaN     NaN   \n",
       "9998                                         NaN     NaN   \n",
       "\n",
       "                                               ONE-LINE  \\\n",
       "0     \\nA woman with a mysterious illness is forced ...   \n",
       "1     \\nThe war for Eternia begins again in what may...   \n",
       "2     \\nSheriff Deputy Rick Grimes wakes up from a c...   \n",
       "3     \\nAn animated series that follows the exploits...   \n",
       "4     \\nA prequel, set before the events of Army of ...   \n",
       "...                                                 ...   \n",
       "9994                                                NaN   \n",
       "9995                                                NaN   \n",
       "9996                                                NaN   \n",
       "9997                                                NaN   \n",
       "9998                                                NaN   \n",
       "\n",
       "                                                  STARS    VOTES  RunTime  \\\n",
       "0     \\n    Director:\\nPeter Thorwarth\\n| \\n    Star...   21,062    121.0   \n",
       "1     \\n            \\n    Stars:\\nChris Wood, \\nSara...   17,870     25.0   \n",
       "2     \\n            \\n    Stars:\\nAndrew Lincoln, \\n...  885,805     44.0   \n",
       "3     \\n            \\n    Stars:\\nJustin Roiland, \\n...  414,849     23.0   \n",
       "4     \\n    Director:\\nMatthias Schweighöfer\\n| \\n  ...      NaN      NaN   \n",
       "...                                                 ...      ...      ...   \n",
       "9994                                                NaN      NaN      NaN   \n",
       "9995                                                NaN      NaN      NaN   \n",
       "9996                                                NaN      NaN      NaN   \n",
       "9997                                                NaN      NaN      NaN   \n",
       "9998                                                NaN      NaN      NaN   \n",
       "\n",
       "     Gross  \n",
       "0      NaN  \n",
       "1      NaN  \n",
       "2      NaN  \n",
       "3      NaN  \n",
       "4      NaN  \n",
       "...    ...  \n",
       "9994   NaN  \n",
       "9995   NaN  \n",
       "9996   NaN  \n",
       "9997   NaN  \n",
       "9998   NaN  \n",
       "\n",
       "[9999 rows x 9 columns]"
      ]
     },
     "execution_count": 16,
     "metadata": {},
     "output_type": "execute_result"
    }
   ],
   "source": [
    "satrt"
   ]
  },
  {
   "cell_type": "code",
   "execution_count": 17,
   "id": "90ea49dc",
   "metadata": {},
   "outputs": [],
   "source": [
    " satrt = satrt.dropna(how='all')"
   ]
  },
  {
   "cell_type": "code",
   "execution_count": 18,
   "id": "14e38826",
   "metadata": {
    "scrolled": true
   },
   "outputs": [
    {
     "data": {
      "text/html": [
       "<div>\n",
       "<style scoped>\n",
       "    .dataframe tbody tr th:only-of-type {\n",
       "        vertical-align: middle;\n",
       "    }\n",
       "\n",
       "    .dataframe tbody tr th {\n",
       "        vertical-align: top;\n",
       "    }\n",
       "\n",
       "    .dataframe thead th {\n",
       "        text-align: right;\n",
       "    }\n",
       "</style>\n",
       "<table border=\"1\" class=\"dataframe\">\n",
       "  <thead>\n",
       "    <tr style=\"text-align: right;\">\n",
       "      <th></th>\n",
       "      <th>MOVIES</th>\n",
       "      <th>YEAR</th>\n",
       "      <th>GENRE</th>\n",
       "      <th>RATING</th>\n",
       "      <th>ONE-LINE</th>\n",
       "      <th>STARS</th>\n",
       "      <th>VOTES</th>\n",
       "      <th>RunTime</th>\n",
       "      <th>Gross</th>\n",
       "    </tr>\n",
       "  </thead>\n",
       "  <tbody>\n",
       "    <tr>\n",
       "      <th>0</th>\n",
       "      <td>Blood Red Sky</td>\n",
       "      <td>-2021</td>\n",
       "      <td>\\nAction, Horror, Thriller</td>\n",
       "      <td>6.1</td>\n",
       "      <td>\\nA woman with a mysterious illness is forced ...</td>\n",
       "      <td>\\n    Director:\\nPeter Thorwarth\\n| \\n    Star...</td>\n",
       "      <td>21,062</td>\n",
       "      <td>121.0</td>\n",
       "      <td>NaN</td>\n",
       "    </tr>\n",
       "    <tr>\n",
       "      <th>1</th>\n",
       "      <td>Masters of the Universe: Revelation</td>\n",
       "      <td>(2021– )</td>\n",
       "      <td>\\nAnimation, Action, Adventure</td>\n",
       "      <td>5.0</td>\n",
       "      <td>\\nThe war for Eternia begins again in what may...</td>\n",
       "      <td>\\n            \\n    Stars:\\nChris Wood, \\nSara...</td>\n",
       "      <td>17,870</td>\n",
       "      <td>25.0</td>\n",
       "      <td>NaN</td>\n",
       "    </tr>\n",
       "    <tr>\n",
       "      <th>2</th>\n",
       "      <td>The Walking Dead</td>\n",
       "      <td>(2010–2022)</td>\n",
       "      <td>\\nDrama, Horror, Thriller</td>\n",
       "      <td>8.2</td>\n",
       "      <td>\\nSheriff Deputy Rick Grimes wakes up from a c...</td>\n",
       "      <td>\\n            \\n    Stars:\\nAndrew Lincoln, \\n...</td>\n",
       "      <td>885,805</td>\n",
       "      <td>44.0</td>\n",
       "      <td>NaN</td>\n",
       "    </tr>\n",
       "    <tr>\n",
       "      <th>3</th>\n",
       "      <td>Rick and Morty</td>\n",
       "      <td>(2013– )</td>\n",
       "      <td>\\nAnimation, Adventure, Comedy</td>\n",
       "      <td>9.2</td>\n",
       "      <td>\\nAn animated series that follows the exploits...</td>\n",
       "      <td>\\n            \\n    Stars:\\nJustin Roiland, \\n...</td>\n",
       "      <td>414,849</td>\n",
       "      <td>23.0</td>\n",
       "      <td>NaN</td>\n",
       "    </tr>\n",
       "    <tr>\n",
       "      <th>4</th>\n",
       "      <td>Army of Thieves</td>\n",
       "      <td>-2021</td>\n",
       "      <td>\\nAction, Crime, Horror</td>\n",
       "      <td>NaN</td>\n",
       "      <td>\\nA prequel, set before the events of Army of ...</td>\n",
       "      <td>\\n    Director:\\nMatthias Schweighöfer\\n| \\n  ...</td>\n",
       "      <td>NaN</td>\n",
       "      <td>NaN</td>\n",
       "      <td>NaN</td>\n",
       "    </tr>\n",
       "    <tr>\n",
       "      <th>...</th>\n",
       "      <td>...</td>\n",
       "      <td>...</td>\n",
       "      <td>...</td>\n",
       "      <td>...</td>\n",
       "      <td>...</td>\n",
       "      <td>...</td>\n",
       "      <td>...</td>\n",
       "      <td>...</td>\n",
       "      <td>...</td>\n",
       "    </tr>\n",
       "    <tr>\n",
       "      <th>495</th>\n",
       "      <td>La catedral del mar</td>\n",
       "      <td>-2018</td>\n",
       "      <td>\\nDrama, History</td>\n",
       "      <td>7.5</td>\n",
       "      <td>\\nBased upon Ildefonso Falcones novel.</td>\n",
       "      <td>\\n            \\n    Stars:\\nJordi Aguilar, \\nA...</td>\n",
       "      <td>3,574</td>\n",
       "      <td>55.0</td>\n",
       "      <td>NaN</td>\n",
       "    </tr>\n",
       "    <tr>\n",
       "      <th>496</th>\n",
       "      <td>Beckett</td>\n",
       "      <td>-2021</td>\n",
       "      <td>\\nAction, Crime, Drama</td>\n",
       "      <td>NaN</td>\n",
       "      <td>\\nFollowing a tragic car accident in Greece, B...</td>\n",
       "      <td>\\n    Director:\\nFerdinando Cito Filomarino\\n|...</td>\n",
       "      <td>NaN</td>\n",
       "      <td>108.0</td>\n",
       "      <td>NaN</td>\n",
       "    </tr>\n",
       "    <tr>\n",
       "      <th>497</th>\n",
       "      <td>Triple Frontier</td>\n",
       "      <td>-2019</td>\n",
       "      <td>\\nAction, Adventure, Crime</td>\n",
       "      <td>6.4</td>\n",
       "      <td>\\nLoyalties are tested when five friends and f...</td>\n",
       "      <td>\\n    Director:\\nJ.C. Chandor\\n| \\n    Stars:\\...</td>\n",
       "      <td>115,059</td>\n",
       "      <td>125.0</td>\n",
       "      <td>NaN</td>\n",
       "    </tr>\n",
       "    <tr>\n",
       "      <th>498</th>\n",
       "      <td>Fondeados</td>\n",
       "      <td>-2021</td>\n",
       "      <td>\\nComedy</td>\n",
       "      <td>4.2</td>\n",
       "      <td>\\nTwo directionless millennial bros get high a...</td>\n",
       "      <td>\\n    Director:\\nMarcos Bucay\\n| \\n    Stars:\\...</td>\n",
       "      <td>161</td>\n",
       "      <td>97.0</td>\n",
       "      <td>NaN</td>\n",
       "    </tr>\n",
       "    <tr>\n",
       "      <th>499</th>\n",
       "      <td>Sweet Home</td>\n",
       "      <td>(2020– )</td>\n",
       "      <td>\\nDrama, Fantasy, Horror</td>\n",
       "      <td>7.4</td>\n",
       "      <td>\\nHyun, a loner high school student who lost h...</td>\n",
       "      <td>\\n            \\n    Stars:\\nSong Kang, \\nLee J...</td>\n",
       "      <td>12,428</td>\n",
       "      <td>52.0</td>\n",
       "      <td>NaN</td>\n",
       "    </tr>\n",
       "  </tbody>\n",
       "</table>\n",
       "<p>500 rows × 9 columns</p>\n",
       "</div>"
      ],
      "text/plain": [
       "                                  MOVIES         YEAR  \\\n",
       "0                          Blood Red Sky        -2021   \n",
       "1    Masters of the Universe: Revelation     (2021– )   \n",
       "2                       The Walking Dead  (2010–2022)   \n",
       "3                         Rick and Morty     (2013– )   \n",
       "4                        Army of Thieves        -2021   \n",
       "..                                   ...          ...   \n",
       "495                  La catedral del mar        -2018   \n",
       "496                              Beckett        -2021   \n",
       "497                      Triple Frontier        -2019   \n",
       "498                            Fondeados        -2021   \n",
       "499                           Sweet Home     (2020– )   \n",
       "\n",
       "                                          GENRE  RATING  \\\n",
       "0        \\nAction, Horror, Thriller                 6.1   \n",
       "1    \\nAnimation, Action, Adventure                 5.0   \n",
       "2         \\nDrama, Horror, Thriller                 8.2   \n",
       "3    \\nAnimation, Adventure, Comedy                 9.2   \n",
       "4           \\nAction, Crime, Horror                 NaN   \n",
       "..                                          ...     ...   \n",
       "495                \\nDrama, History                 7.5   \n",
       "496          \\nAction, Crime, Drama                 NaN   \n",
       "497      \\nAction, Adventure, Crime                 6.4   \n",
       "498                        \\nComedy                 4.2   \n",
       "499        \\nDrama, Fantasy, Horror                 7.4   \n",
       "\n",
       "                                              ONE-LINE  \\\n",
       "0    \\nA woman with a mysterious illness is forced ...   \n",
       "1    \\nThe war for Eternia begins again in what may...   \n",
       "2    \\nSheriff Deputy Rick Grimes wakes up from a c...   \n",
       "3    \\nAn animated series that follows the exploits...   \n",
       "4    \\nA prequel, set before the events of Army of ...   \n",
       "..                                                 ...   \n",
       "495             \\nBased upon Ildefonso Falcones novel.   \n",
       "496  \\nFollowing a tragic car accident in Greece, B...   \n",
       "497  \\nLoyalties are tested when five friends and f...   \n",
       "498  \\nTwo directionless millennial bros get high a...   \n",
       "499  \\nHyun, a loner high school student who lost h...   \n",
       "\n",
       "                                                 STARS    VOTES  RunTime Gross  \n",
       "0    \\n    Director:\\nPeter Thorwarth\\n| \\n    Star...   21,062    121.0   NaN  \n",
       "1    \\n            \\n    Stars:\\nChris Wood, \\nSara...   17,870     25.0   NaN  \n",
       "2    \\n            \\n    Stars:\\nAndrew Lincoln, \\n...  885,805     44.0   NaN  \n",
       "3    \\n            \\n    Stars:\\nJustin Roiland, \\n...  414,849     23.0   NaN  \n",
       "4    \\n    Director:\\nMatthias Schweighöfer\\n| \\n  ...      NaN      NaN   NaN  \n",
       "..                                                 ...      ...      ...   ...  \n",
       "495  \\n            \\n    Stars:\\nJordi Aguilar, \\nA...    3,574     55.0   NaN  \n",
       "496  \\n    Director:\\nFerdinando Cito Filomarino\\n|...      NaN    108.0   NaN  \n",
       "497  \\n    Director:\\nJ.C. Chandor\\n| \\n    Stars:\\...  115,059    125.0   NaN  \n",
       "498  \\n    Director:\\nMarcos Bucay\\n| \\n    Stars:\\...      161     97.0   NaN  \n",
       "499  \\n            \\n    Stars:\\nSong Kang, \\nLee J...   12,428     52.0   NaN  \n",
       "\n",
       "[500 rows x 9 columns]"
      ]
     },
     "execution_count": 18,
     "metadata": {},
     "output_type": "execute_result"
    }
   ],
   "source": [
    "satrt"
   ]
  },
  {
   "cell_type": "code",
   "execution_count": 19,
   "id": "df956277",
   "metadata": {
    "scrolled": true
   },
   "outputs": [
    {
     "data": {
      "text/plain": [
       "MOVIES        0\n",
       "YEAR          0\n",
       "GENRE         0\n",
       "RATING       10\n",
       "ONE-LINE      0\n",
       "STARS         0\n",
       "VOTES        10\n",
       "RunTime      22\n",
       "Gross       411\n",
       "dtype: int64"
      ]
     },
     "execution_count": 19,
     "metadata": {},
     "output_type": "execute_result"
    }
   ],
   "source": [
    "satrt.isnull().sum()"
   ]
  },
  {
   "cell_type": "code",
   "execution_count": 20,
   "id": "832a999d",
   "metadata": {},
   "outputs": [
    {
     "data": {
      "text/plain": [
       "0      6.1\n",
       "1      5.0\n",
       "2      8.2\n",
       "3      9.2\n",
       "4      NaN\n",
       "      ... \n",
       "495    7.5\n",
       "496    NaN\n",
       "497    6.4\n",
       "498    4.2\n",
       "499    7.4\n",
       "Name: RATING, Length: 500, dtype: float64"
      ]
     },
     "execution_count": 20,
     "metadata": {},
     "output_type": "execute_result"
    }
   ],
   "source": [
    "satrt[\"RATING\"] "
   ]
  },
  {
   "cell_type": "code",
   "execution_count": 21,
   "id": "aa483e5f",
   "metadata": {},
   "outputs": [
    {
     "data": {
      "text/plain": [
       "55"
      ]
     },
     "execution_count": 21,
     "metadata": {},
     "output_type": "execute_result"
    }
   ],
   "source": [
    "satrt[\"RATING\"].nunique()"
   ]
  },
  {
   "cell_type": "code",
   "execution_count": 22,
   "id": "bbdbcb4d",
   "metadata": {},
   "outputs": [
    {
     "data": {
      "text/plain": [
       "array([6.1, 5. , 8.2, 9.2, nan, 7.6, 6.8, 8.6, 7.9, 7.4, 6. , 8.1, 6.2,\n",
       "       5.4, 8. , 7.5, 9.4, 8.3, 8.7, 8.9, 8.8, 8.5, 8.4, 6.7, 7.7, 9. ,\n",
       "       5.8, 3.3, 7.8, 5.7, 6.6, 6.9, 6.5, 7.1, 5.6, 7.3, 9.1, 7.2, 6.4,\n",
       "       9.3, 7. , 6.3, 3.7, 5.5, 4.6, 4.8, 5.3, 4.7, 5.9, 5.1, 4.9, 2.7,\n",
       "       4.4, 3.1, 4.5, 4.2])"
      ]
     },
     "execution_count": 22,
     "metadata": {},
     "output_type": "execute_result"
    }
   ],
   "source": [
    " satrt[\"RATING\"].unique()"
   ]
  },
  {
   "cell_type": "code",
   "execution_count": 24,
   "id": "67f1948a",
   "metadata": {},
   "outputs": [
    {
     "data": {
      "text/plain": [
       "10"
      ]
     },
     "execution_count": 24,
     "metadata": {},
     "output_type": "execute_result"
    }
   ],
   "source": [
    "satrt[\"RATING\"] .isnull().sum()"
   ]
  },
  {
   "cell_type": "code",
   "execution_count": 27,
   "id": "a262feb9",
   "metadata": {},
   "outputs": [],
   "source": [
    "satrt['RATING']=satrt['RATING'].fillna(np.mean(pd.to_numeric(satrt['RATING'])))\n"
   ]
  },
  {
   "cell_type": "code",
   "execution_count": 28,
   "id": "ba23fcb5",
   "metadata": {},
   "outputs": [
    {
     "data": {
      "text/plain": [
       "0"
      ]
     },
     "execution_count": 28,
     "metadata": {},
     "output_type": "execute_result"
    }
   ],
   "source": [
    "satrt[\"RATING\"] .isnull().sum()"
   ]
  },
  {
   "cell_type": "code",
   "execution_count": 33,
   "id": "bbf2af55",
   "metadata": {},
   "outputs": [
    {
     "data": {
      "text/plain": [
       "array([6.1       , 5.        , 8.2       , 9.2       , 7.40836735,\n",
       "       7.6       , 6.8       , 8.6       , 7.9       , 7.4       ,\n",
       "       6.        , 8.1       , 6.2       , 5.4       , 8.        ,\n",
       "       7.5       , 9.4       , 8.3       , 8.7       , 8.9       ,\n",
       "       8.8       , 8.5       , 8.4       , 6.7       , 7.7       ,\n",
       "       9.        , 5.8       , 3.3       , 7.8       , 5.7       ,\n",
       "       6.6       , 6.9       , 6.5       , 7.1       , 5.6       ,\n",
       "       7.3       , 9.1       , 7.2       , 6.4       , 9.3       ,\n",
       "       7.        , 6.3       , 3.7       , 5.5       , 4.6       ,\n",
       "       4.8       , 5.3       , 4.7       , 5.9       , 5.1       ,\n",
       "       4.9       , 2.7       , 4.4       , 3.1       , 4.5       ,\n",
       "       4.2       ])"
      ]
     },
     "execution_count": 33,
     "metadata": {},
     "output_type": "execute_result"
    }
   ],
   "source": [
    " satrt[\"RATING\"].unique()"
   ]
  },
  {
   "cell_type": "code",
   "execution_count": 34,
   "id": "9527c3ca",
   "metadata": {},
   "outputs": [],
   "source": [
    "satrt['VOTES']=satrt['VOTES'].str.replace(r'\\W','',regex=True)"
   ]
  },
  {
   "cell_type": "code",
   "execution_count": 35,
   "id": "628b0480",
   "metadata": {},
   "outputs": [],
   "source": [
    "satrt['VOTES']=satrt['VOTES'].fillna(np.mean(pd.to_numeric(satrt['VOTES'])))\n"
   ]
  },
  {
   "cell_type": "code",
   "execution_count": null,
   "id": "ebba475f",
   "metadata": {},
   "outputs": [],
   "source": []
  },
  {
   "cell_type": "code",
   "execution_count": 36,
   "id": "6642f492",
   "metadata": {},
   "outputs": [],
   "source": [
    "satrt['RunTime']=satrt['RunTime'].fillna(np.mean(pd.to_numeric(satrt['RunTime'])))\n"
   ]
  },
  {
   "cell_type": "code",
   "execution_count": 44,
   "id": "602f5ddc",
   "metadata": {},
   "outputs": [
    {
     "data": {
      "text/plain": [
       "MOVIES        0\n",
       "YEAR          0\n",
       "GENRE         0\n",
       "RATING        0\n",
       "ONE-LINE      0\n",
       "STARS         0\n",
       "VOTES         0\n",
       "RunTime       0\n",
       "Gross       411\n",
       "dtype: int64"
      ]
     },
     "execution_count": 44,
     "metadata": {},
     "output_type": "execute_result"
    }
   ],
   "source": [
    "satrt.isnull().sum()"
   ]
  },
  {
   "cell_type": "code",
   "execution_count": 46,
   "id": "4ed66f55",
   "metadata": {},
   "outputs": [],
   "source": [
    "satrt.drop(columns='Gross', inplace=True)\n"
   ]
  },
  {
   "cell_type": "code",
   "execution_count": 48,
   "id": "1230a2bf",
   "metadata": {},
   "outputs": [
    {
     "data": {
      "text/plain": [
       "Index(['MOVIES', 'YEAR', 'GENRE', 'RATING', 'ONE-LINE', 'STARS', 'VOTES',\n",
       "       'RunTime'],\n",
       "      dtype='object')"
      ]
     },
     "execution_count": 48,
     "metadata": {},
     "output_type": "execute_result"
    }
   ],
   "source": [
    "satrt.columns"
   ]
  },
  {
   "cell_type": "code",
   "execution_count": 49,
   "id": "0a28a5ed",
   "metadata": {},
   "outputs": [
    {
     "data": {
      "text/plain": [
       "MOVIES      0\n",
       "YEAR        0\n",
       "GENRE       0\n",
       "RATING      0\n",
       "ONE-LINE    0\n",
       "STARS       0\n",
       "VOTES       0\n",
       "RunTime     0\n",
       "dtype: int64"
      ]
     },
     "execution_count": 49,
     "metadata": {},
     "output_type": "execute_result"
    }
   ],
   "source": [
    "satrt.isnull().sum()"
   ]
  },
  {
   "cell_type": "code",
   "execution_count": 52,
   "id": "37e3024e",
   "metadata": {},
   "outputs": [
    {
     "data": {
      "text/html": [
       "<div>\n",
       "<style scoped>\n",
       "    .dataframe tbody tr th:only-of-type {\n",
       "        vertical-align: middle;\n",
       "    }\n",
       "\n",
       "    .dataframe tbody tr th {\n",
       "        vertical-align: top;\n",
       "    }\n",
       "\n",
       "    .dataframe thead th {\n",
       "        text-align: right;\n",
       "    }\n",
       "</style>\n",
       "<table border=\"1\" class=\"dataframe\">\n",
       "  <thead>\n",
       "    <tr style=\"text-align: right;\">\n",
       "      <th></th>\n",
       "      <th>RATING</th>\n",
       "      <th>RunTime</th>\n",
       "    </tr>\n",
       "  </thead>\n",
       "  <tbody>\n",
       "    <tr>\n",
       "      <th>count</th>\n",
       "      <td>500.000000</td>\n",
       "      <td>500.000000</td>\n",
       "    </tr>\n",
       "    <tr>\n",
       "      <th>mean</th>\n",
       "      <td>7.408367</td>\n",
       "      <td>80.167364</td>\n",
       "    </tr>\n",
       "    <tr>\n",
       "      <th>std</th>\n",
       "      <td>1.053228</td>\n",
       "      <td>62.686813</td>\n",
       "    </tr>\n",
       "    <tr>\n",
       "      <th>min</th>\n",
       "      <td>2.700000</td>\n",
       "      <td>11.000000</td>\n",
       "    </tr>\n",
       "    <tr>\n",
       "      <th>25%</th>\n",
       "      <td>6.800000</td>\n",
       "      <td>43.000000</td>\n",
       "    </tr>\n",
       "    <tr>\n",
       "      <th>50%</th>\n",
       "      <td>7.600000</td>\n",
       "      <td>60.000000</td>\n",
       "    </tr>\n",
       "    <tr>\n",
       "      <th>75%</th>\n",
       "      <td>8.200000</td>\n",
       "      <td>109.250000</td>\n",
       "    </tr>\n",
       "    <tr>\n",
       "      <th>max</th>\n",
       "      <td>9.400000</td>\n",
       "      <td>572.000000</td>\n",
       "    </tr>\n",
       "  </tbody>\n",
       "</table>\n",
       "</div>"
      ],
      "text/plain": [
       "           RATING     RunTime\n",
       "count  500.000000  500.000000\n",
       "mean     7.408367   80.167364\n",
       "std      1.053228   62.686813\n",
       "min      2.700000   11.000000\n",
       "25%      6.800000   43.000000\n",
       "50%      7.600000   60.000000\n",
       "75%      8.200000  109.250000\n",
       "max      9.400000  572.000000"
      ]
     },
     "execution_count": 52,
     "metadata": {},
     "output_type": "execute_result"
    }
   ],
   "source": [
    "satrt.describe()"
   ]
  },
  {
   "cell_type": "code",
   "execution_count": 53,
   "id": "0ae231c7",
   "metadata": {},
   "outputs": [
    {
     "name": "stdout",
     "output_type": "stream",
     "text": [
      "<class 'pandas.core.frame.DataFrame'>\n",
      "Index: 500 entries, 0 to 499\n",
      "Data columns (total 8 columns):\n",
      " #   Column    Non-Null Count  Dtype  \n",
      "---  ------    --------------  -----  \n",
      " 0   MOVIES    500 non-null    object \n",
      " 1   YEAR      500 non-null    object \n",
      " 2   GENRE     500 non-null    object \n",
      " 3   RATING    500 non-null    float64\n",
      " 4   ONE-LINE  500 non-null    object \n",
      " 5   STARS     500 non-null    object \n",
      " 6   VOTES     500 non-null    object \n",
      " 7   RunTime   500 non-null    float64\n",
      "dtypes: float64(2), object(6)\n",
      "memory usage: 51.3+ KB\n"
     ]
    }
   ],
   "source": [
    "satrt.info()"
   ]
  },
  {
   "cell_type": "code",
   "execution_count": 54,
   "id": "115c7fe3",
   "metadata": {},
   "outputs": [
    {
     "data": {
      "text/plain": [
       "MOVIES       object\n",
       "YEAR         object\n",
       "GENRE        object\n",
       "RATING      float64\n",
       "ONE-LINE     object\n",
       "STARS        object\n",
       "VOTES        object\n",
       "RunTime     float64\n",
       "dtype: object"
      ]
     },
     "execution_count": 54,
     "metadata": {},
     "output_type": "execute_result"
    }
   ],
   "source": [
    "satrt.dtypes"
   ]
  },
  {
   "cell_type": "code",
   "execution_count": 55,
   "id": "781d0dcf",
   "metadata": {},
   "outputs": [
    {
     "data": {
      "text/html": [
       "<div>\n",
       "<style scoped>\n",
       "    .dataframe tbody tr th:only-of-type {\n",
       "        vertical-align: middle;\n",
       "    }\n",
       "\n",
       "    .dataframe tbody tr th {\n",
       "        vertical-align: top;\n",
       "    }\n",
       "\n",
       "    .dataframe thead th {\n",
       "        text-align: right;\n",
       "    }\n",
       "</style>\n",
       "<table border=\"1\" class=\"dataframe\">\n",
       "  <thead>\n",
       "    <tr style=\"text-align: right;\">\n",
       "      <th></th>\n",
       "      <th>MOVIES</th>\n",
       "      <th>YEAR</th>\n",
       "      <th>GENRE</th>\n",
       "      <th>RATING</th>\n",
       "      <th>ONE-LINE</th>\n",
       "      <th>STARS</th>\n",
       "      <th>VOTES</th>\n",
       "      <th>RunTime</th>\n",
       "    </tr>\n",
       "  </thead>\n",
       "  <tbody>\n",
       "    <tr>\n",
       "      <th>0</th>\n",
       "      <td>Blood Red Sky</td>\n",
       "      <td>-2021</td>\n",
       "      <td>\\nAction, Horror, Thriller</td>\n",
       "      <td>6.1</td>\n",
       "      <td>\\nA woman with a mysterious illness is forced ...</td>\n",
       "      <td>\\n    Director:\\nPeter Thorwarth\\n| \\n    Star...</td>\n",
       "      <td>21062</td>\n",
       "      <td>121.0</td>\n",
       "    </tr>\n",
       "    <tr>\n",
       "      <th>1</th>\n",
       "      <td>Masters of the Universe: Revelation</td>\n",
       "      <td>(2021– )</td>\n",
       "      <td>\\nAnimation, Action, Adventure</td>\n",
       "      <td>5.0</td>\n",
       "      <td>\\nThe war for Eternia begins again in what may...</td>\n",
       "      <td>\\n            \\n    Stars:\\nChris Wood, \\nSara...</td>\n",
       "      <td>17870</td>\n",
       "      <td>25.0</td>\n",
       "    </tr>\n",
       "  </tbody>\n",
       "</table>\n",
       "</div>"
      ],
      "text/plain": [
       "                                MOVIES      YEAR  \\\n",
       "0                        Blood Red Sky     -2021   \n",
       "1  Masters of the Universe: Revelation  (2021– )   \n",
       "\n",
       "                                        GENRE  RATING  \\\n",
       "0      \\nAction, Horror, Thriller                 6.1   \n",
       "1  \\nAnimation, Action, Adventure                 5.0   \n",
       "\n",
       "                                            ONE-LINE  \\\n",
       "0  \\nA woman with a mysterious illness is forced ...   \n",
       "1  \\nThe war for Eternia begins again in what may...   \n",
       "\n",
       "                                               STARS  VOTES  RunTime  \n",
       "0  \\n    Director:\\nPeter Thorwarth\\n| \\n    Star...  21062    121.0  \n",
       "1  \\n            \\n    Stars:\\nChris Wood, \\nSara...  17870     25.0  "
      ]
     },
     "execution_count": 55,
     "metadata": {},
     "output_type": "execute_result"
    }
   ],
   "source": [
    "satrt.head(2)"
   ]
  },
  {
   "cell_type": "code",
   "execution_count": 64,
   "id": "35688bee",
   "metadata": {},
   "outputs": [],
   "source": [
    "satrt['MOVIES']=satrt['MOVIES'].astype('category')"
   ]
  },
  {
   "cell_type": "code",
   "execution_count": 65,
   "id": "a407806e",
   "metadata": {},
   "outputs": [],
   "source": [
    "satrt['GENRE']=satrt['GENRE'].astype('category')"
   ]
  },
  {
   "cell_type": "code",
   "execution_count": 66,
   "id": "b98ab794",
   "metadata": {},
   "outputs": [],
   "source": [
    "satrt['ONE-LINE']=satrt['ONE-LINE'].astype('category')"
   ]
  },
  {
   "cell_type": "code",
   "execution_count": 67,
   "id": "286df667",
   "metadata": {},
   "outputs": [],
   "source": [
    "satrt['STARS']=satrt['STARS'].astype('category')"
   ]
  },
  {
   "cell_type": "code",
   "execution_count": 68,
   "id": "21f68b6b",
   "metadata": {},
   "outputs": [],
   "source": [
    "satrt['RATING']=satrt['RATING'].astype('float')"
   ]
  },
  {
   "cell_type": "code",
   "execution_count": 69,
   "id": "855476a2",
   "metadata": {},
   "outputs": [],
   "source": [
    "satrt['VOTES']=satrt['VOTES'].astype('int')"
   ]
  },
  {
   "cell_type": "code",
   "execution_count": 70,
   "id": "0dd06b16",
   "metadata": {},
   "outputs": [],
   "source": [
    "satrt['RunTime']=satrt['RunTime'].astype('float')"
   ]
  },
  {
   "cell_type": "code",
   "execution_count": 74,
   "id": "05fc32ef",
   "metadata": {},
   "outputs": [
    {
     "name": "stdout",
     "output_type": "stream",
     "text": [
      "<class 'pandas.core.frame.DataFrame'>\n",
      "Index: 500 entries, 0 to 499\n",
      "Data columns (total 8 columns):\n",
      " #   Column    Non-Null Count  Dtype   \n",
      "---  ------    --------------  -----   \n",
      " 0   MOVIES    500 non-null    category\n",
      " 1   YEAR      500 non-null    object  \n",
      " 2   GENRE     500 non-null    category\n",
      " 3   RATING    500 non-null    float64 \n",
      " 4   ONE-LINE  500 non-null    category\n",
      " 5   STARS     500 non-null    category\n",
      " 6   VOTES     500 non-null    int32   \n",
      " 7   RunTime   500 non-null    float64 \n",
      "dtypes: category(4), float64(2), int32(1), object(1)\n",
      "memory usage: 103.1+ KB\n"
     ]
    }
   ],
   "source": [
    "satrt.info()"
   ]
  },
  {
   "cell_type": "code",
   "execution_count": 75,
   "id": "4b55ccd2",
   "metadata": {},
   "outputs": [
    {
     "data": {
      "text/html": [
       "<div>\n",
       "<style scoped>\n",
       "    .dataframe tbody tr th:only-of-type {\n",
       "        vertical-align: middle;\n",
       "    }\n",
       "\n",
       "    .dataframe tbody tr th {\n",
       "        vertical-align: top;\n",
       "    }\n",
       "\n",
       "    .dataframe thead th {\n",
       "        text-align: right;\n",
       "    }\n",
       "</style>\n",
       "<table border=\"1\" class=\"dataframe\">\n",
       "  <thead>\n",
       "    <tr style=\"text-align: right;\">\n",
       "      <th></th>\n",
       "      <th>RATING</th>\n",
       "      <th>VOTES</th>\n",
       "      <th>RunTime</th>\n",
       "    </tr>\n",
       "  </thead>\n",
       "  <tbody>\n",
       "    <tr>\n",
       "      <th>count</th>\n",
       "      <td>500.000000</td>\n",
       "      <td>5.000000e+02</td>\n",
       "      <td>500.000000</td>\n",
       "    </tr>\n",
       "    <tr>\n",
       "      <th>mean</th>\n",
       "      <td>6.946000</td>\n",
       "      <td>1.557781e+05</td>\n",
       "      <td>80.160000</td>\n",
       "    </tr>\n",
       "    <tr>\n",
       "      <th>std</th>\n",
       "      <td>1.086944</td>\n",
       "      <td>2.254407e+05</td>\n",
       "      <td>62.686822</td>\n",
       "    </tr>\n",
       "    <tr>\n",
       "      <th>min</th>\n",
       "      <td>2.000000</td>\n",
       "      <td>2.700000e+01</td>\n",
       "      <td>11.000000</td>\n",
       "    </tr>\n",
       "    <tr>\n",
       "      <th>25%</th>\n",
       "      <td>6.000000</td>\n",
       "      <td>2.597575e+04</td>\n",
       "      <td>43.000000</td>\n",
       "    </tr>\n",
       "    <tr>\n",
       "      <th>50%</th>\n",
       "      <td>7.000000</td>\n",
       "      <td>7.750650e+04</td>\n",
       "      <td>60.000000</td>\n",
       "    </tr>\n",
       "    <tr>\n",
       "      <th>75%</th>\n",
       "      <td>8.000000</td>\n",
       "      <td>1.952758e+05</td>\n",
       "      <td>109.250000</td>\n",
       "    </tr>\n",
       "    <tr>\n",
       "      <th>max</th>\n",
       "      <td>9.000000</td>\n",
       "      <td>1.713028e+06</td>\n",
       "      <td>572.000000</td>\n",
       "    </tr>\n",
       "  </tbody>\n",
       "</table>\n",
       "</div>"
      ],
      "text/plain": [
       "           RATING         VOTES     RunTime\n",
       "count  500.000000  5.000000e+02  500.000000\n",
       "mean     6.946000  1.557781e+05   80.160000\n",
       "std      1.086944  2.254407e+05   62.686822\n",
       "min      2.000000  2.700000e+01   11.000000\n",
       "25%      6.000000  2.597575e+04   43.000000\n",
       "50%      7.000000  7.750650e+04   60.000000\n",
       "75%      8.000000  1.952758e+05  109.250000\n",
       "max      9.000000  1.713028e+06  572.000000"
      ]
     },
     "execution_count": 75,
     "metadata": {},
     "output_type": "execute_result"
    }
   ],
   "source": [
    "satrt.describe()"
   ]
  },
  {
   "cell_type": "code",
   "execution_count": 76,
   "id": "d3f25b81",
   "metadata": {},
   "outputs": [],
   "source": [
    "Clean_Starts1=satrt.copy()"
   ]
  },
  {
   "cell_type": "code",
   "execution_count": 77,
   "id": "150e1fa6",
   "metadata": {},
   "outputs": [],
   "source": [
    "Clean_Starts1.to_csv('Clean_Starts1.csv')"
   ]
  },
  {
   "cell_type": "code",
   "execution_count": 78,
   "id": "95198722",
   "metadata": {},
   "outputs": [
    {
     "data": {
      "text/plain": [
       "'C:\\\\Users\\\\arnak'"
      ]
     },
     "execution_count": 78,
     "metadata": {},
     "output_type": "execute_result"
    }
   ],
   "source": [
    "import os\n",
    "os.getcwd()"
   ]
  },
  {
   "cell_type": "code",
   "execution_count": null,
   "id": "98005857",
   "metadata": {},
   "outputs": [],
   "source": []
  },
  {
   "cell_type": "code",
   "execution_count": null,
   "id": "2aa3279b",
   "metadata": {},
   "outputs": [],
   "source": []
  }
 ],
 "metadata": {
  "kernelspec": {
   "display_name": "Python 3 (ipykernel)",
   "language": "python",
   "name": "python3"
  },
  "language_info": {
   "codemirror_mode": {
    "name": "ipython",
    "version": 3
   },
   "file_extension": ".py",
   "mimetype": "text/x-python",
   "name": "python",
   "nbconvert_exporter": "python",
   "pygments_lexer": "ipython3",
   "version": "3.11.3"
  }
 },
 "nbformat": 4,
 "nbformat_minor": 5
}
